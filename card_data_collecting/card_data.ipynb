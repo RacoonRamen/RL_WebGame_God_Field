{
 "cells": [
  {
   "cell_type": "code",
   "execution_count": 1,
   "metadata": {},
   "outputs": [],
   "source": [
    "from selenium import webdriver\n",
    "from webdriver_manager.chrome import ChromeDriverManager\n",
    "import numpy as np\n",
    "import keyboard\n",
    "from time import sleep"
   ]
  },
  {
   "cell_type": "code",
   "execution_count": 2,
   "metadata": {},
   "outputs": [
    {
     "name": "stderr",
     "output_type": "stream",
     "text": [
      "C:\\Users\\babeh\\AppData\\Local\\Temp\\ipykernel_28424\\4283913967.py:1: DeprecationWarning: executable_path has been deprecated, please pass in a Service object\n",
      "  drive = webdriver.Chrome(executable_path= ChromeDriverManager().install())\n"
     ]
    }
   ],
   "source": [
    "drive = webdriver.Chrome(executable_path= ChromeDriverManager().install())"
   ]
  },
  {
   "cell_type": "code",
   "execution_count": null,
   "metadata": {},
   "outputs": [],
   "source": [
    "def mouse_get_data():\n",
    "    price_num = 0\n",
    "    flag = 0\n",
    "    name = drive.find_element('xpath', '//*[@id=\"main\"]/div/div[4]/div[13]/div[2]/div[1]/span[1]')\n",
    "    name_value = name.get_attribute('textContent')\n",
    "    atk = drive.find_element('xpath', '//*[@id=\"main\"]/div/div[4]/div[13]/div[2]/div[1]/span[2]')\n",
    "    atk_value = atk.get_attribute('textContent')\n",
    "    try:\n",
    "        special = drive.find_element('xpath', '//*[@id=\"main\"]/div/div[4]/div[13]/div[2]/div[1]/span[3]')\n",
    "        special_value = special.get_attribute('textContent')\n",
    "    except :\n",
    "        special_value = 'None'\n",
    "    while flag == 0:\n",
    "        try:\n",
    "            price = drive.find_element('xpath', '//*[@id=\"main\"]/div/div[4]/div[13]/div[2]/div[1]/div['+str(price_num)+']/span')\n",
    "            price_value = price.get_attribute('textContent')\n",
    "            flag = 1\n",
    "        except :\n",
    "            price_num+=1\n",
    "    try:\n",
    "        element = drive.find_element('xpath', '//*[@id=\"main\"]/div/div[4]/div[13]/div[2]/div[1]/div[4]')\n",
    "        url = element.value_of_css_property(property_name='background-image')\n",
    "        card = url.split(\"/\")[5]\n",
    "        card = card.replace('.png\")', '') \n",
    "        element_value = card.replace(\"-\",'_')\n",
    "    except:\n",
    "        element_value = \"0\"\n",
    "    \n",
    "    result = name_value,atk_value,price_value,element_value,special_value\n",
    "    return result"
   ]
  },
  {
   "cell_type": "code",
   "execution_count": 9,
   "metadata": {},
   "outputs": [],
   "source": [
    "def get_data():\n",
    "    target = []\n",
    "    data = []\n",
    "    for num in range(200):\n",
    "        try:\n",
    "            xpath = '//*[@id=\"main\"]/div/div[4]/div[13]/div[1]/div['+str(num)+']'\n",
    "            ck = drive.find_element('xpath', xpath)\n",
    "            ck.click()\n",
    "            data = mouse_get_data()\n",
    "            target.append(data)\n",
    "        except:\n",
    "            pass\n",
    "    return target\n"
   ]
  },
  {
   "cell_type": "code",
   "execution_count": 10,
   "metadata": {},
   "outputs": [],
   "source": [
    "def get_info(card):\n",
    "    result = []\n",
    "    # [+atk/-def, price, element,+hp/-mp, costMP, php, pmp, pmy, ehp, emp, emy  ]\n",
    "    for num in range(len(card)):\n",
    "        new_target = []\n",
    "        target = str(card[num][0])\n",
    "        target = target.replace(\"<\", '')\n",
    "        target = target.replace(\">\", '')\n",
    "        target = target.lower()\n",
    "        new_target.append(target)\n",
    "        for seq in range(1,4):\n",
    "            target = str(card[num][seq])\n",
    "            target = target.lower()\n",
    "            target = target.replace('+atk', '')\n",
    "            target = target.replace('atk', '')\n",
    "            target = target.replace('$', '')\n",
    "            target = target.replace(\"hp+\", '')\n",
    "            target = target.replace(\"mp+\", '-')\n",
    "            target = target.replace(\"75%\", '')\n",
    "            target = target.replace(\"50%\", '')\n",
    "            target = target.replace(\"25%\", '')\n",
    "            target = target.replace('def', '-')#defence < value 0\n",
    "            target = target.replace(\"cost\", '')\n",
    "            target = target.replace(\"mp\", '')\n",
    "            target = target.replace('counterattack', '-50')#special effect\n",
    "            target = target.replace(\"filter the attackelement\", '-51')\n",
    "            target = target.replace(\"reflect anything\", '-52')\n",
    "            target = target.replace(\"cold\", '0')\n",
    "            target = target.replace(\"heaven\", '0')\n",
    "            target = target.replace(\"fog\", '0')\n",
    "            target = target.replace(\"dark cloud\", '0')\n",
    "            target = target.replace(\"dream\", '0')\n",
    "            target = target.replace(\"attackall the enemies\", '0')\n",
    "            target = target.replace('fire', '1')\n",
    "            target = target.replace('water', '2')\n",
    "            target = target.replace('wood', '3')\n",
    "            target = target.replace('stone', '4')\n",
    "            target = target.replace('light', '5')\n",
    "            target = target.replace('darkness', '6')\n",
    "            new_target.append(target)\n",
    "        result.append(new_target)\n",
    "        \n",
    "    return result"
   ]
  },
  {
   "cell_type": "code",
   "execution_count": 23,
   "metadata": {},
   "outputs": [],
   "source": [
    "def save_data(name, target):\n",
    "    np.save('D:\\使用者\\桌面\\god field\\data\\ ' + str(name) + '.npy', target)"
   ]
  },
  {
   "cell_type": "code",
   "execution_count": 103,
   "metadata": {},
   "outputs": [],
   "source": [
    "cards = []\n",
    "for num in range(1, 150):\n",
    "    try:\n",
    "        name = drive.find_element('xpath', '//*[@id=\"main\"]/div/div[4]/div[13]/div[1]/div['+str(num)+']')\n",
    "        url = name.value_of_css_property(property_name='background-image')\n",
    "        card = url.split(\"/\")[6]\n",
    "        card = card.replace('.png\")', '') \n",
    "        card = card.replace(\"-\",' ')\n",
    "        cards.append(card)\n",
    "    except:\n",
    "        pass"
   ]
  },
  {
   "cell_type": "code",
   "execution_count": 104,
   "metadata": {},
   "outputs": [
    {
     "data": {
      "text/plain": [
       "['discard', 'sacrifice', 'exchange', 'sell', 'buy']"
      ]
     },
     "execution_count": 104,
     "metadata": {},
     "output_type": "execute_result"
    }
   ],
   "source": [
    "cards"
   ]
  },
  {
   "cell_type": "code",
   "execution_count": 109,
   "metadata": {},
   "outputs": [],
   "source": [
    "trade = [\n",
    "    ['discard', 1, 0, 7, 0, 0], \n",
    "    ['sacrifice', 2, 0, 7, 0, 0], \n",
    "    ['exchange', 3, 5, 7, 0, 0], \n",
    "    ['sell', 4, 5, 7, 0, 0], \n",
    "    ['buy', 5, 5, 7, 0, 0]\n",
    "]"
   ]
  },
  {
   "cell_type": "code",
   "execution_count": 110,
   "metadata": {},
   "outputs": [
    {
     "data": {
      "text/plain": [
       "[['discard', 1, 0, 7, 0, 0],\n",
       " ['sacrifice', 2, 0, 7, 0, 0],\n",
       " ['exchange', 3, 5, 7, 0, 0],\n",
       " ['sell', 4, 5, 7, 0, 0],\n",
       " ['buy', 5, 5, 7, 0, 0]]"
      ]
     },
     "execution_count": 110,
     "metadata": {},
     "output_type": "execute_result"
    }
   ],
   "source": [
    "trade"
   ]
  },
  {
   "cell_type": "code",
   "execution_count": 102,
   "metadata": {},
   "outputs": [],
   "source": [
    "save_data('trade', trade)"
   ]
  },
  {
   "cell_type": "code",
   "execution_count": 107,
   "metadata": {},
   "outputs": [],
   "source": [
    "target = get_data()\n",
    "result = get_info(target)"
   ]
  },
  {
   "cell_type": "code",
   "execution_count": 108,
   "metadata": {},
   "outputs": [
    {
     "data": {
      "text/plain": [
       "[]"
      ]
     },
     "execution_count": 108,
     "metadata": {},
     "output_type": "execute_result"
    }
   ],
   "source": [
    "result"
   ]
  },
  {
   "cell_type": "code",
   "execution_count": 707,
   "metadata": {},
   "outputs": [],
   "source": [
    "final = np.insert(result, 4, 0, 1)\n",
    "final = np.insert(final, 4, 0, 1)\n",
    "result = final.tolist()\n",
    "for num in range(len(result)):\n",
    "    for seq in range(1, 6):\n",
    "        try:\n",
    "            result[num][seq] = int(result[num][seq])\n",
    "        except:\n",
    "            result[num][seq] = 0\n",
    "save_data(\"armor\",result)"
   ]
  },
  {
   "cell_type": "code",
   "execution_count": 7,
   "metadata": {},
   "outputs": [
    {
     "ename": "NameError",
     "evalue": "name 'result' is not defined",
     "output_type": "error",
     "traceback": [
      "\u001b[1;31m---------------------------------------------------------------------------\u001b[0m",
      "\u001b[1;31mNameError\u001b[0m                                 Traceback (most recent call last)",
      "\u001b[1;32md:\\使用者\\桌面\\god field\\card_data.ipynb Cell 11'\u001b[0m in \u001b[0;36m<cell line: 2>\u001b[1;34m()\u001b[0m\n\u001b[0;32m      <a href='vscode-notebook-cell:/d%3A/%E4%BD%BF%E7%94%A8%E8%80%85/%E6%A1%8C%E9%9D%A2/god%20field/card_data.ipynb#ch0000008?line=0'>1</a>\u001b[0m \u001b[39m# weapons\u001b[39;00m\n\u001b[1;32m----> <a href='vscode-notebook-cell:/d%3A/%E4%BD%BF%E7%94%A8%E8%80%85/%E6%A1%8C%E9%9D%A2/god%20field/card_data.ipynb#ch0000008?line=1'>2</a>\u001b[0m final \u001b[39m=\u001b[39m np\u001b[39m.\u001b[39minsert(result, \u001b[39m4\u001b[39m, \u001b[39m0\u001b[39m, \u001b[39m1\u001b[39m)\n\u001b[0;32m      <a href='vscode-notebook-cell:/d%3A/%E4%BD%BF%E7%94%A8%E8%80%85/%E6%A1%8C%E9%9D%A2/god%20field/card_data.ipynb#ch0000008?line=2'>3</a>\u001b[0m final \u001b[39m=\u001b[39m np\u001b[39m.\u001b[39minsert(final, \u001b[39m4\u001b[39m, \u001b[39m0\u001b[39m, \u001b[39m1\u001b[39m)\n\u001b[0;32m      <a href='vscode-notebook-cell:/d%3A/%E4%BD%BF%E7%94%A8%E8%80%85/%E6%A1%8C%E9%9D%A2/god%20field/card_data.ipynb#ch0000008?line=3'>4</a>\u001b[0m result \u001b[39m=\u001b[39m final\u001b[39m.\u001b[39mtolist()\n",
      "\u001b[1;31mNameError\u001b[0m: name 'result' is not defined"
     ]
    }
   ],
   "source": [
    "# weapons\n",
    "final = np.insert(result, 4, 0, 1)\n",
    "final = np.insert(final, 4, 0, 1)\n",
    "result = final.tolist()\n",
    "for num in range(len(result)):\n",
    "    for seq in range(1, 6):\n",
    "        try:\n",
    "            result[num][seq] = int(result[num][seq])\n",
    "        except:\n",
    "            result[num][seq] = 0\n",
    "save_data(\"weapons\",result)"
   ]
  },
  {
   "cell_type": "code",
   "execution_count": 678,
   "metadata": {},
   "outputs": [],
   "source": [
    "# miracles\n",
    "# element = np.array(result)[:,3]\n",
    "# final = np.insert(result, 2, 0, 1)\n",
    "# final = np.insert(final, 3, element, 1)\n",
    "# final = np.delete(final, 5, 1)\n",
    "# final = np.insert(final, 4, 0, 1)\n",
    "# final = final.tolist()\n",
    "# result = final\n",
    "# for num in range(len(result)):\n",
    "#     for seq in range(1, 6):\n",
    "#         try:\n",
    "#             result[num][seq] = int(result[num][seq])\n",
    "#         except:\n",
    "#             result[num][seq] = 0\n",
    "# save_data(\"miracles\",result)"
   ]
  },
  {
   "cell_type": "code",
   "execution_count": 663,
   "metadata": {},
   "outputs": [],
   "source": [
    "#sundries\n",
    "# price = np.array(result)[:,2]\n",
    "# hpmp = np.array(result)[:,1]\n",
    "# name = np.array(result)[:,0]\n",
    "# final = np.delete(result, 3, 1)\n",
    "# final = np.insert(final, 1, 0, 1)\n",
    "# final = np.delete(final, 3, 1)\n",
    "# final = np.insert(final, 2, price, 1)\n",
    "# final = np.insert(final, 3, 0, 1)\n",
    "# final = np.insert(final, 5, 0, 1)\n",
    "# final = final.tolist()\n",
    "# result = final\n",
    "# for num in range(len(result)):\n",
    "#     for seq in range(1,5):\n",
    "#         try:\n",
    "#             result[num][seq] = int(result[num][seq])\n",
    "#         except:\n",
    "#             result[num][seq] = 0\n",
    "# save_data('sundries', result)"
   ]
  },
  {
   "cell_type": "code",
   "execution_count": null,
   "metadata": {},
   "outputs": [],
   "source": []
  }
 ],
 "metadata": {
  "interpreter": {
   "hash": "528077dcf9dd4645b7df7b08001c11994ec4301c7fa5feef0aa771497d456021"
  },
  "kernelspec": {
   "display_name": "Python 3.8.12 ('DQN-Ninja')",
   "language": "python",
   "name": "python3"
  },
  "language_info": {
   "codemirror_mode": {
    "name": "ipython",
    "version": 3
   },
   "file_extension": ".py",
   "mimetype": "text/x-python",
   "name": "python",
   "nbconvert_exporter": "python",
   "pygments_lexer": "ipython3",
   "version": "3.8.12"
  },
  "orig_nbformat": 4
 },
 "nbformat": 4,
 "nbformat_minor": 2
}
